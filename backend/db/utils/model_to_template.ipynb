{
 "cells": [
  {
   "cell_type": "code",
   "execution_count": 1,
   "metadata": {},
   "outputs": [],
   "source": [
    "from sqlmodel import SQLModel, Field, Relationship, ForeignKey\n",
    "from typing import List\n",
    "from beeprint import pp\n"
   ]
  },
  {
   "cell_type": "code",
   "execution_count": 2,
   "metadata": {},
   "outputs": [],
   "source": [
    "class Author(SQLModel, table=True):\n",
    "    id: int = Field(primary_key=True)\n",
    "    name: str\n",
    "    email: str\n",
    "\n",
    "class Book(SQLModel, table=True):\n",
    "    id: int = Field(primary_key=True)\n",
    "    title: str\n",
    "    author_id: int = Field(default=None,  foreign_key=\"author.id\", description=\"auyjor id\")\n",
    "\n"
   ]
  },
  {
   "cell_type": "code",
   "execution_count": 3,
   "metadata": {},
   "outputs": [],
   "source": [
    "import json\n",
    "\n",
    "\n",
    "def get_model_structure(model_class: type[SQLModel]) -> dict:\n",
    "    \"\"\"Get the structure of a given SQLModel as a dictionary.\"\"\"\n",
    "    structure = {\n",
    "        \"fields\": {},\n",
    "        \"relationships\": {}\n",
    "    }\n",
    "\n",
    "\n",
    "    for field in model_class.__table__.columns:\n",
    "        # Add each field to the \"fields\" dictionary\n",
    "        pp(field)\n",
    "\n",
    "        structure[\"fields\"][field.name] = {\n",
    "            \"type\": str(field.type),\n",
    "            \"default\": getattr(field, \"default\", None),\n",
    "            \"primary_key\": field.primary_key,\n",
    "            \"unique\": field.unique,\n",
    "            \"index\": field.index,\n",
    "            \"foreign_keys\": []\n",
    "        }\n",
    "\n",
    "    # If model_class has any relationships\n",
    "    if hasattr(model_class, \"__mapper__\"):\n",
    "        for rel in model_class.__mapper__.relationships:\n",
    "            structure[\"relationships\"][rel.key] = {\n",
    "                \"model\": rel.target.name,\n",
    "                \"direction\": rel.direction.name\n",
    "            }\n",
    "\n",
    "    with open(\"model_structure.json\", 'w') as f:\n",
    "        json.dump(structure, f, indent=4)\n",
    "\n",
    "    print(structure)\n",
    "    return structure\n",
    "\n",
    "\n",
    "    # for field in model_class.__table__.columns:\n",
    "    #     # pp(field)\n",
    "    #     structure[\"fields\"][field.name] = {\"type\": field.type, \"default\": getattr(field, \"default\", None)}\n",
    "\n",
    "    # print(structure)\n",
    "    # return structure\n"
   ]
  },
  {
   "cell_type": "code",
   "execution_count": 4,
   "metadata": {},
   "outputs": [],
   "source": [
    "def create_prompt(model_class: type[SQLModel]) -> str:\n",
    "    \"\"\"Create a prompt for Llama 3.1 to generate synthetic data.\"\"\"\n",
    "    structure = get_model_structure(model_class)\n",
    "    fields = \", \".join(f\"{field} (e.g., '{structure['fields'][field]['default']}')\" for field in structure[\"fields\"])\n",
    "    return f\"Generate a sample of the following data: {', '.join(structure['fields'].keys())}.\"\n"
   ]
  },
  {
   "cell_type": "code",
   "execution_count": 5,
   "metadata": {},
   "outputs": [
    {
     "name": "stdout",
     "output_type": "stream",
     "text": [
      "Column('id', Integer(), table=<book>, primary_key=True, nullable=False)\n",
      "Column('title', AutoString(), table=<book>, nullable=False)\n",
      "Column('author_id', Integer(), ForeignKey('author.id'), table=<book>, nullable=False)\n",
      "{'fields': {'id': {'type': 'INTEGER', 'default': None, 'primary_key': True, 'unique': False, 'index': False, 'foreign_keys': []}, 'title': {'type': 'VARCHAR', 'default': None, 'primary_key': False, 'unique': False, 'index': False, 'foreign_keys': []}, 'author_id': {'type': 'INTEGER', 'default': None, 'primary_key': False, 'unique': False, 'index': False, 'foreign_keys': []}}, 'relationships': {}}\n"
     ]
    }
   ],
   "source": [
    "prompt = create_prompt(Book)\n",
    "# from beeprint import pp\n",
    "# print(prompt)\n"
   ]
  },
  {
   "cell_type": "code",
   "execution_count": 6,
   "metadata": {},
   "outputs": [],
   "source": [
    "# Use Llama 3.1 to generate synthetic data based on the prompt and add it to your model using SQLModel's add() method\n",
    "import ollama\n"
   ]
  },
  {
   "cell_type": "code",
   "execution_count": 7,
   "metadata": {},
   "outputs": [
    {
     "name": "stdout",
     "output_type": "stream",
     "text": [
      "Raw AI response:\n",
      " {'model': 'llama3.1:8b', 'created_at': '2024-10-16T00:01:14.19660695Z', 'response': '{ \\n\"id\": 1,\\n\"title\": \"Harry Potter and the Philosopher\\'s Stone\",\\n\"author_id\": 101 \\n\\n}\\n\\n \\n ', 'done': True, 'done_reason': 'stop', 'context': [128006, 882, 128007, 271, 32215, 264, 6205, 315, 279, 2768, 828, 25, 887, 11, 2316, 11, 3229, 851, 13, 128009, 128006, 78191, 128007, 271, 90, 720, 29800, 794, 220, 16, 345, 83827, 794, 330, 42398, 30427, 323, 279, 7302, 46459, 596, 14637, 761, 1, 3170, 851, 794, 220, 4645, 4815, 633, 720, 220], 'total_duration': 5362273516, 'load_duration': 4586598549, 'prompt_eval_count': 25, 'prompt_eval_duration': 94038000, 'eval_count': 30, 'eval_duration': 637800000}\n"
     ]
    }
   ],
   "source": [
    "import requests\n",
    "import json\n",
    "import ollama\n",
    "\n",
    "data = {\n",
    "            \"prompt\": prompt,\n",
    "            \"model\": 'llama3.1:8b',\n",
    "            \"format\": \"json\",\n",
    "            \"stream\": False,\n",
    "            \"options\": {\"temperature\": 100},\n",
    "        }\n",
    "\n",
    "response = requests.post(\"http://localhost:11434/api/generate\", json=data, stream=False)\n",
    "json_data = json.loads(response.text)\n",
    "print(f\"Raw AI response:\\n {json_data}\")   \n",
    "    "
   ]
  },
  {
   "cell_type": "code",
   "execution_count": 8,
   "metadata": {},
   "outputs": [
    {
     "ename": "KeyError",
     "evalue": "0",
     "output_type": "error",
     "traceback": [
      "\u001b[0;31m---------------------------------------------------------------------------\u001b[0m",
      "\u001b[0;31mKeyError\u001b[0m                                  Traceback (most recent call last)",
      "Cell \u001b[0;32mIn[8], line 1\u001b[0m\n\u001b[0;32m----> 1\u001b[0m book_instance \u001b[38;5;241m=\u001b[39m Book(\u001b[38;5;241m*\u001b[39m\u001b[38;5;241m*\u001b[39m\u001b[43mjson_data\u001b[49m\u001b[43m[\u001b[49m\u001b[38;5;241;43m0\u001b[39;49m\u001b[43m]\u001b[49m)  \u001b[38;5;66;03m# Add the generated data to a new instance of the Book model\u001b[39;00m\n",
      "\u001b[0;31mKeyError\u001b[0m: 0"
     ]
    }
   ],
   "source": [
    "book_instance = Book(**json_data[0])  # Add the generated data to a new instance of the Book model\n"
   ]
  }
 ],
 "metadata": {
  "kernelspec": {
   "display_name": ".sbox1",
   "language": "python",
   "name": "python3"
  },
  "language_info": {
   "codemirror_mode": {
    "name": "ipython",
    "version": 3
   },
   "file_extension": ".py",
   "mimetype": "text/x-python",
   "name": "python",
   "nbconvert_exporter": "python",
   "pygments_lexer": "ipython3",
   "version": "3.12.2"
  }
 },
 "nbformat": 4,
 "nbformat_minor": 2
}
