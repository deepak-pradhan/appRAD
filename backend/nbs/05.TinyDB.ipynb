{
 "cells": [
  {
   "cell_type": "markdown",
   "id": "e77cc38d-16fa-4f0e-a813-8000bbc974b2",
   "metadata": {},
   "source": [
    "## Using Pydantic for Data Validation"
   ]
  },
  {
   "cell_type": "code",
   "execution_count": null,
   "id": "06010de0-3fba-438d-9d76-ec85ec96ec07",
   "metadata": {},
   "outputs": [],
   "source": [
    "!pip install tinydb pydantic"
   ]
  },
  {
   "cell_type": "code",
   "execution_count": null,
   "id": "442baa06-8d9f-42b2-8a14-2993d1c1bed2",
   "metadata": {},
   "outputs": [],
   "source": [
    "from pydantic import BaseModel, EmailStr, conint, ValidationError\n",
    "\n",
    "## 1. Define the data model\n",
    "class User(BaseModel):\n",
    "    username: str\n",
    "    email: EmailStr\n",
    "    age: conint(ge=0)\n",
    "\n",
    "from tinydb import TinyDB, Query\n",
    "# Initialize the database\n",
    "db = TinyDB('05.TinyDB.json')\n",
    "users_table = db.table('users')\n",
    "print('Table `users` created in `05.TinyDB.json`\\n')\n",
    "\n",
    "\n",
    "## 2. Create\n",
    "# Data to insert\n",
    "user_data = {'username': 'john_doe', 'email': 'john@example.com', 'age': 30}\n",
    "\n",
    "# Validate and insert data\n",
    "try:\n",
    "    # Validate data against the User model\n",
    "    user = User(**user_data)\n",
    "    \n",
    "    # Insert validated data into TinyDB\n",
    "    users_table.insert(user.dict())\n",
    "    print('User `john_doe` is created!\\n')\n",
    "except ValidationError as e:\n",
    "    print(\"Validation Error:\", e.json())\n",
    "\n",
    "\n",
    "## 3. Read\n",
    "# Retrieve and validate data\n",
    "UserQuery = Query()\n",
    "result = users_table.search(UserQuery.username == 'john_doe')\n",
    "\n",
    "try:\n",
    "    user = User(**result[0])\n",
    "    print(\"Retrieved User:\", user)\n",
    "except ValidationError as e:\n",
    "    print(\"Data Validation Error:\", e.json())\n"
   ]
  },
  {
   "cell_type": "markdown",
   "id": "a46faaf5-ce09-4561-b354-a1a644dde690",
   "metadata": {},
   "source": [
    "---"
   ]
  },
  {
   "cell_type": "markdown",
   "id": "38eeef3f-7ad6-4d12-865c-3356959233dd",
   "metadata": {},
   "source": [
    "## Using Cerberus for Data Validation"
   ]
  },
  {
   "cell_type": "code",
   "execution_count": 1,
   "id": "413fc4a2-1135-4929-8ee4-22a81e183d7f",
   "metadata": {},
   "outputs": [
    {
     "name": "stdout",
     "output_type": "stream",
     "text": [
      "Requirement already satisfied: cerberus in /home/dp/Documents/appRAD/sbox2/.sbox2/lib/python3.12/site-packages (1.3.5)\n"
     ]
    }
   ],
   "source": [
    "!pip install cerberus"
   ]
  },
  {
   "cell_type": "markdown",
   "id": "aa287145-f84f-4bdb-bd7d-54a4398c0c42",
   "metadata": {},
   "source": [
    "### 1. Define the Cerberus Schema"
   ]
  },
  {
   "cell_type": "code",
   "execution_count": 2,
   "id": "92e0fd61-94f4-4849-aba9-9f07a83ae64a",
   "metadata": {},
   "outputs": [],
   "source": [
    "## 1. Define a Validation Schema with Cerberus\n",
    "from cerberus import Validator\n",
    "\n",
    "schema = {\n",
    "    'username': {'type': 'string', 'empty': False, 'maxlength': 50},\n",
    "    'email': {'type': 'string', 'empty': False, 'regex': r'^\\S+@\\S+\\.\\S+$'},\n",
    "    'age': {'type': 'integer', 'min': 0}\n",
    "}\n",
    "\n",
    "validator = Validator(schema)\n"
   ]
  },
  {
   "cell_type": "markdown",
   "id": "9f45f35e-ba87-4bfc-8853-19e666677fec",
   "metadata": {},
   "source": [
    "### 2. Initialize TinyDB"
   ]
  },
  {
   "cell_type": "code",
   "execution_count": 3,
   "id": "1a3fcbc8-d106-4477-99cb-775530357eef",
   "metadata": {},
   "outputs": [],
   "source": [
    "## 2. Initialize DB\n",
    "from tinydb import TinyDB\n",
    "\n",
    "db = TinyDB('05.TinyDB.json')\n",
    "users_table = db.table('users')"
   ]
  },
  {
   "cell_type": "code",
   "execution_count": null,
   "id": "3f8e6c2d-e4d8-4fb8-b62a-2ea5ecffd621",
   "metadata": {},
   "outputs": [],
   "source": [
    "## 3. Create\n",
    "## Validate Data Before Insertion"
   ]
  },
  {
   "cell_type": "code",
   "execution_count": 4,
   "id": "c7e83dee-4def-49c1-b5f1-ead2edba6e3e",
   "metadata": {},
   "outputs": [],
   "source": [
    "user_data = {'username': 'john_doe', 'email': 'john@example.com', 'age': 30}\n",
    "\n",
    "if validator.validate(user_data):\n",
    "    users_table.insert(user_data)\n",
    "else:\n",
    "    print(\"Validation Errors:\", validator.errors)\n"
   ]
  },
  {
   "cell_type": "code",
   "execution_count": 5,
   "id": "046bab65-bac2-44fa-9f93-6802a01e5315",
   "metadata": {},
   "outputs": [
    {
     "name": "stdout",
     "output_type": "stream",
     "text": [
      "Validation Errors: {'age': ['min value is 0']}\n"
     ]
    }
   ],
   "source": [
    "user_data = {'username': 'john_doe', 'email': 'john@example.com', 'age': -30}\n",
    "\n",
    "if validator.validate(user_data):\n",
    "    users_table.insert(user_data)\n",
    "else:\n",
    "    print(\"Validation Errors:\", validator.errors)\n"
   ]
  },
  {
   "cell_type": "code",
   "execution_count": 6,
   "id": "9ed1f731-8385-4d8c-a4b3-14b65ec4a51b",
   "metadata": {},
   "outputs": [
    {
     "name": "stdout",
     "output_type": "stream",
     "text": [
      "Retrieved User: {'username': 'john_doe', 'email': 'john@example.com', 'age': 30}\n",
      "Retrieved User: {'username': 'john_doe', 'email': 'john@example.com', 'age': 30}\n",
      "Retrieved User: {'username': 'john_doe', 'email': 'john@example.com', 'age': 30}\n",
      "Retrieved User: {'username': 'john_doe', 'email': 'john@example.com', 'age': 30}\n",
      "Retrieved User: {'username': 'john_doe', 'email': 'john@example.com', 'age': 30}\n"
     ]
    }
   ],
   "source": [
    "## 4. Read and Validate\n",
    "from tinydb import Query\n",
    "\n",
    "UserQuery = Query()\n",
    "result = users_table.search(UserQuery.username == 'john_doe')\n",
    "\n",
    "for user_data in result:\n",
    "    if validator.validate(user_data):\n",
    "        print(\"Retrieved User:\", user_data)\n",
    "    else:\n",
    "        print(\"Data Validation Error:\", validator.errors)\n"
   ]
  },
  {
   "cell_type": "markdown",
   "id": "74d02bc8-9de1-4062-b00e-0890513c215b",
   "metadata": {},
   "source": [
    "### 3. Implement Validation During Update\n",
    "\n",
    "When performing an update, you'll need to:\n",
    "* Retrieve the existing record(s) that match your query.\n",
    "* Merge the updates with the existing data.\n",
    "* Validate the merged data.\n",
    "* Apply the update if validation passes."
   ]
  },
  {
   "cell_type": "code",
   "execution_count": null,
   "id": "145aceec-041b-420a-aef5-59433e1b4051",
   "metadata": {},
   "outputs": [],
   "source": []
  }
 ],
 "metadata": {
  "kernelspec": {
   "display_name": "Python 3 (ipykernel)",
   "language": "python",
   "name": "python3"
  },
  "language_info": {
   "codemirror_mode": {
    "name": "ipython",
    "version": 3
   },
   "file_extension": ".py",
   "mimetype": "text/x-python",
   "name": "python",
   "nbconvert_exporter": "python",
   "pygments_lexer": "ipython3",
   "version": "3.12.2"
  }
 },
 "nbformat": 4,
 "nbformat_minor": 5
}
