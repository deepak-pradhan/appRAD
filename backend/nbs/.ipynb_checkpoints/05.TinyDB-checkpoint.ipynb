{
 "cells": [
  {
   "cell_type": "markdown",
   "id": "e77cc38d-16fa-4f0e-a813-8000bbc974b2",
   "metadata": {},
   "source": [
    "## Using Pydantic for Data Validation"
   ]
  },
  {
   "cell_type": "code",
   "execution_count": 2,
   "id": "06010de0-3fba-438d-9d76-ec85ec96ec07",
   "metadata": {},
   "outputs": [
    {
     "name": "stdout",
     "output_type": "stream",
     "text": [
      "Requirement already satisfied: tinydb in /home/dp/Documents/appRAD/sbox2/.sbox2/lib/python3.12/site-packages (4.8.2)\n",
      "Requirement already satisfied: pydantic in /home/dp/Documents/appRAD/sbox2/.sbox2/lib/python3.12/site-packages (2.9.2)\n",
      "Requirement already satisfied: annotated-types>=0.6.0 in /home/dp/Documents/appRAD/sbox2/.sbox2/lib/python3.12/site-packages (from pydantic) (0.7.0)\n",
      "Requirement already satisfied: pydantic-core==2.23.4 in /home/dp/Documents/appRAD/sbox2/.sbox2/lib/python3.12/site-packages (from pydantic) (2.23.4)\n",
      "Requirement already satisfied: typing-extensions>=4.6.1 in /home/dp/Documents/appRAD/sbox2/.sbox2/lib/python3.12/site-packages (from pydantic) (4.12.2)\n"
     ]
    }
   ],
   "source": [
    "!pip install tinydb pydantic"
   ]
  },
  {
   "cell_type": "code",
   "execution_count": 9,
   "id": "442baa06-8d9f-42b2-8a14-2993d1c1bed2",
   "metadata": {},
   "outputs": [
    {
     "name": "stdout",
     "output_type": "stream",
     "text": [
      "Table `users` created in `05.TinyDB.json`\n",
      "\n",
      "User `john_doe` is created!\n",
      "\n",
      "Retrieved User: username='john_doe' email='john@example.com' age=30\n"
     ]
    }
   ],
   "source": [
    "from pydantic import BaseModel, EmailStr, conint, ValidationError\n",
    "\n",
    "## 1. Define the data model\n",
    "class User(BaseModel):\n",
    "    username: str\n",
    "    email: EmailStr\n",
    "    age: conint(ge=0)\n",
    "\n",
    "from tinydb import TinyDB, Query\n",
    "# Initialize the database\n",
    "db = TinyDB('05.TinyDB.json')\n",
    "users_table = db.table('users')\n",
    "print('Table `users` created in `05.TinyDB.json`\\n')\n",
    "\n",
    "\n",
    "## 2. Create\n",
    "# Data to insert\n",
    "user_data = {'username': 'john_doe', 'email': 'john@example.com', 'age': 30}\n",
    "\n",
    "# Validate and insert data\n",
    "try:\n",
    "    # Validate data against the User model\n",
    "    user = User(**user_data)\n",
    "    \n",
    "    # Insert validated data into TinyDB\n",
    "    users_table.insert(user.dict())\n",
    "    print('User `john_doe` is created!\\n')\n",
    "except ValidationError as e:\n",
    "    print(\"Validation Error:\", e.json())\n",
    "\n",
    "\n",
    "## 3. Read\n",
    "# Retrieve and validate data\n",
    "UserQuery = Query()\n",
    "result = users_table.search(UserQuery.username == 'john_doe')\n",
    "\n",
    "try:\n",
    "    user = User(**result[0])\n",
    "    print(\"Retrieved User:\", user)\n",
    "except ValidationError as e:\n",
    "    print(\"Data Validation Error:\", e.json())\n"
   ]
  },
  {
   "cell_type": "markdown",
   "id": "a46faaf5-ce09-4561-b354-a1a644dde690",
   "metadata": {},
   "source": [
    "---"
   ]
  },
  {
   "cell_type": "markdown",
   "id": "38eeef3f-7ad6-4d12-865c-3356959233dd",
   "metadata": {},
   "source": [
    "## Using Cerberus for Data Validation"
   ]
  },
  {
   "cell_type": "code",
   "execution_count": 10,
   "id": "413fc4a2-1135-4929-8ee4-22a81e183d7f",
   "metadata": {},
   "outputs": [
    {
     "name": "stdout",
     "output_type": "stream",
     "text": [
      "Requirement already satisfied: tinydb in /home/dp/Documents/appRAD/sbox2/.sbox2/lib/python3.12/site-packages (4.8.2)\n",
      "Collecting cerberus\n",
      "  Downloading Cerberus-1.3.5-py3-none-any.whl.metadata (6.0 kB)\n",
      "Downloading Cerberus-1.3.5-py3-none-any.whl (30 kB)\n",
      "Installing collected packages: cerberus\n",
      "Successfully installed cerberus-1.3.5\n"
     ]
    }
   ],
   "source": [
    "!pip install tinydb cerberus"
   ]
  },
  {
   "cell_type": "code",
   "execution_count": null,
   "id": "92e0fd61-94f4-4849-aba9-9f07a83ae64a",
   "metadata": {},
   "outputs": [],
   "source": [
    "## 1. Define a Validation Schema with Cerberus\n",
    "from cerberus import Validator\n",
    "\n",
    "schema = {\n",
    "    'username': {'type': 'string', 'empty': False, 'maxlength': 50},\n",
    "    'email': {'type': 'string', 'empty': False, 'regex': r'^\\S+@\\S+\\.\\S+$'},\n",
    "    'age': {'type': 'integer', 'min': 0}\n",
    "}\n",
    "\n",
    "validator = Validator(schema)\n"
   ]
  }
 ],
 "metadata": {
  "kernelspec": {
   "display_name": "Python 3 (ipykernel)",
   "language": "python",
   "name": "python3"
  },
  "language_info": {
   "codemirror_mode": {
    "name": "ipython",
    "version": 3
   },
   "file_extension": ".py",
   "mimetype": "text/x-python",
   "name": "python",
   "nbconvert_exporter": "python",
   "pygments_lexer": "ipython3",
   "version": "3.12.2"
  }
 },
 "nbformat": 4,
 "nbformat_minor": 5
}
