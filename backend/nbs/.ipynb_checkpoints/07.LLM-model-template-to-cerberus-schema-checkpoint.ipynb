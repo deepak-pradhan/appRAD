{
 "cells": [
  {
   "cell_type": "code",
   "execution_count": 5,
   "id": "fbcb3a7c-f251-457c-b882-925be90505c0",
   "metadata": {},
   "outputs": [],
   "source": [
    "def parse_template_data(template_text):\n",
    "    import re\n",
    "    import json\n",
    "    \n",
    "    headers = re.findall(r'<\\|start_header_id\\|>(.*?)<\\|end_header_id\\|>', template_text, re.DOTALL)\n",
    "    messages = re.findall(r'\\<\\|start_header_id\\|>(.*?)\\<\\|end_header_id\\|>(.*?)<\\|eot_id\\|>', template_text, re.DOTALL)\n",
    "    \n",
    "    conversation_data = {\n",
    "        'header_ids': {\n",
    "            'start_header_id': headers[0] if headers else None,\n",
    "            'end_header_id': headers[1] if len(headers) > 1 else None,\n",
    "            'eot_id': headers[2] if len(headers) > 2 else None\n",
    "        },\n",
    "        'messages': []\n",
    "    }\n",
    "    \n",
    "    for role, content in messages:\n",
    "        message = {\n",
    "            'role': role.strip(),\n",
    "            'content': content.strip()\n",
    "        }\n",
    "        conversation_data['messages'].append(message)\n",
    "    \n",
    "    return json.dumps(conversation_data, indent=4)"
   ]
  },
  {
   "cell_type": "code",
   "execution_count": 6,
   "id": "593f03e1-0086-45b3-9505-e78f084b5311",
   "metadata": {},
   "outputs": [],
   "source": [
    "template_text = '''\n",
    "<|start_header_id|>system<|end_header_id|>\n",
    "\n",
    "Cutting Knowledge Date: December 2023\n",
    "\n",
    "{{ if .System }}{{ .System }}\n",
    "{{- end }}\n",
    "{{- if .Tools }}When you receive a tool call response, use the output to format an answer to the orginal user question.\n",
    "\n",
    "You are a helpful assistant with tool calling capabilities.\n",
    "{{- end }}<|eot_id|>\n",
    "{{- range $i, $_ := .Messages }}\n",
    "{{- $last := eq (len (slice $.Messages $i)) 1 }}\n",
    "{{- if eq .Role \"user\" }}<|start_header_id|>user<|end_header_id|>\n",
    "{{- if and $.Tools $last }}\n",
    "\n",
    "Given the following functions, please respond with a JSON for a function call with its proper arguments that best answers the given prompt.\n",
    "\n",
    "Respond in the format {\"name\": function name, \"parameters\": dictionary of argument name and its value}. Do not use variables.\n",
    "\n",
    "{{ range $.Tools }}\n",
    "{{- . }}\n",
    "{{ end }}\n",
    "{{ .Content }}<|eot_id|>\n",
    "{{- else }}\n",
    "\n",
    "{{ .Content }}<|eot_id|>\n",
    "{{- end }}{{ if $last }}<|start_header_id|>assistant<|end_header_id|>\n",
    "\n",
    "{{ end }}\n",
    "{{- else if eq .Role \"assistant\" }}<|start_header_id|>assistant<|end_header_id|>\n",
    "{{- if .ToolCalls }}\n",
    "{{ range .ToolCalls }}\n",
    "{\"name\": \"{{ .Function.Name }}\", \"parameters\": {{ .Function.Arguments }}}{{ end }}\n",
    "{{- else }}\n",
    "\n",
    "{{ .Content }}\n",
    "{{- end }}{{ if not $last }}<|eot_id|>{{ end }}\n",
    "{{- else if eq .Role \"tool\" }}<|start_header_id|>ipython<|end_header_id|>\n",
    "\n",
    "{{ .Content }}<|eot_id|>{{ if $last }}<|start_header_id|>assistant<|end_header_id|>\n",
    "\n",
    "{{ end }}\n",
    "{{- end }}\n",
    "{{- end }}\n",
    "'''\n",
    "\n"
   ]
  },
  {
   "cell_type": "code",
   "execution_count": 7,
   "id": "63734f49-48cb-4944-a0e5-6978688188d3",
   "metadata": {},
   "outputs": [
    {
     "name": "stdout",
     "output_type": "stream",
     "text": [
      "{\n",
      "    \"header_ids\": {\n",
      "        \"start_header_id\": \"system\",\n",
      "        \"end_header_id\": \"user\",\n",
      "        \"eot_id\": \"assistant\"\n",
      "    },\n",
      "    \"messages\": [\n",
      "        {\n",
      "            \"role\": \"system\",\n",
      "            \"content\": \"Cutting Knowledge Date: December 2023\\n\\n{{ if .System }}{{ .System }}\\n{{- end }}\\n{{- if .Tools }}When you receive a tool call response, use the output to format an answer to the orginal user question.\\n\\nYou are a helpful assistant with tool calling capabilities.\\n{{- end }}\"\n",
      "        },\n",
      "        {\n",
      "            \"role\": \"user\",\n",
      "            \"content\": \"{{- if and $.Tools $last }}\\n\\nGiven the following functions, please respond with a JSON for a function call with its proper arguments that best answers the given prompt.\\n\\nRespond in the format {\\\"name\\\": function name, \\\"parameters\\\": dictionary of argument name and its value}. Do not use variables.\\n\\n{{ range $.Tools }}\\n{{- . }}\\n{{ end }}\\n{{ .Content }}\"\n",
      "        },\n",
      "        {\n",
      "            \"role\": \"assistant\",\n",
      "            \"content\": \"{{ end }}\\n{{- else if eq .Role \\\"assistant\\\" }}<|start_header_id|>assistant<|end_header_id|>\\n{{- if .ToolCalls }}\\n{{ range .ToolCalls }}\\n{\\\"name\\\": \\\"{{ .Function.Name }}\\\", \\\"parameters\\\": {{ .Function.Arguments }}}{{ end }}\\n{{- else }}\\n\\n{{ .Content }}\\n{{- end }}{{ if not $last }}\"\n",
      "        },\n",
      "        {\n",
      "            \"role\": \"ipython\",\n",
      "            \"content\": \"{{ .Content }}\"\n",
      "        }\n",
      "    ]\n",
      "}\n"
     ]
    }
   ],
   "source": [
    "parsed_data = parse_template_data(template_text)\n",
    "print(parsed_data)"
   ]
  },
  {
   "cell_type": "code",
   "execution_count": null,
   "id": "14e725f1-c8cf-43c9-9390-031d1eb78a7f",
   "metadata": {},
   "outputs": [],
   "source": []
  }
 ],
 "metadata": {
  "kernelspec": {
   "display_name": "Python 3 (ipykernel)",
   "language": "python",
   "name": "python3"
  },
  "language_info": {
   "codemirror_mode": {
    "name": "ipython",
    "version": 3
   },
   "file_extension": ".py",
   "mimetype": "text/x-python",
   "name": "python",
   "nbconvert_exporter": "python",
   "pygments_lexer": "ipython3",
   "version": "3.12.2"
  }
 },
 "nbformat": 4,
 "nbformat_minor": 5
}
