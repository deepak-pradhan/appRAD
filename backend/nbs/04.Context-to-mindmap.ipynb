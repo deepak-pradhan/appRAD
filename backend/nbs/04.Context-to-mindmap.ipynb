{
 "cells": [
  {
   "cell_type": "code",
   "execution_count": null,
   "id": "98b91db1-d06c-4491-8dc1-5a99fb16fde7",
   "metadata": {},
   "outputs": [],
   "source": [
    "!pip install fastapi uvicorn nest_asyncio"
   ]
  },
  {
   "cell_type": "code",
   "execution_count": null,
   "id": "b583f4cc-6cf5-46e6-8f0b-6bb49616c67f",
   "metadata": {},
   "outputs": [],
   "source": [
    "!pip uninstall -y uvloop"
   ]
  },
  {
   "cell_type": "code",
   "execution_count": null,
   "id": "0f90ef7a",
   "metadata": {},
   "outputs": [],
   "source": [
    "!pip install requests"
   ]
  },
  {
   "cell_type": "code",
   "execution_count": 4,
   "id": "f5807805-a4bf-40ab-a1fa-3c3916f4f3a6",
   "metadata": {},
   "outputs": [
    {
     "name": "stderr",
     "output_type": "stream",
     "text": [
      "INFO:     Started server process [408339]\n",
      "INFO:     Waiting for application startup.\n",
      "INFO:     Application startup complete.\n",
      "ERROR:    [Errno 98] error while attempting to bind on address ('127.0.0.1', 8004): address already in use\n",
      "INFO:     Waiting for application shutdown.\n",
      "INFO:     Application shutdown complete.\n"
     ]
    }
   ],
   "source": [
    "import nest_asyncio\n",
    "import uvicorn\n",
    "from fastapi import FastAPI\n",
    "from fastapi.responses import JSONResponse\n",
    "from threading import Thread\n",
    "import asyncio\n",
    "\n",
    "# Apply nest_asyncio to allow the event loop to run in Jupyter\n",
    "nest_asyncio.apply()\n",
    "\n",
    "# Define the FastAPI app\n",
    "app = FastAPI()\n",
    "\n",
    "@app.get(\"/get-conversation\")\n",
    "async def get_conversation():\n",
    "    # Example data structure to mimic your conversation JSON\n",
    "    data = {\n",
    "        \"states\": [\n",
    "            {\"prompt\": \"What is the climate like?\", \"response\": \"Tropical climate with rainfall\"},\n",
    "            {\"prompt\": \"How does the weather affect crops?\", \"response\": \"Affects crop health\"},\n",
    "            {\"prompt\": \"Best crops for climate?\", \"response\": None}\n",
    "        ]\n",
    "    }\n",
    "\n",
    "    # Transform JSON data for jsMind format\n",
    "    js_mind_data = [{\"id\": \"root\", \"isroot\": True, \"topic\": \"Conversation\"}]\n",
    "    for i, state in enumerate(data[\"states\"], start=1):\n",
    "        state_id = f\"s{i}\"\n",
    "        js_mind_data.append({\n",
    "            \"id\": state_id,\n",
    "            \"parentid\": \"root\",\n",
    "            \"topic\": state[\"prompt\"]\n",
    "        })\n",
    "        if state[\"response\"]:\n",
    "            js_mind_data.append({\n",
    "                \"id\": f\"{state_id}_response\",\n",
    "                \"parentid\": state_id,\n",
    "                \"topic\": state[\"response\"]\n",
    "            })\n",
    "\n",
    "    return JSONResponse(content=js_mind_data)\n",
    "\n",
    "# Function to start Uvicorn server in a separate thread with loop=\"asyncio\"\n",
    "def run_server():\n",
    "    config = uvicorn.Config(app, host=\"127.0.0.1\", port=8004, log_level=\"info\", loop=\"asyncio\")\n",
    "    server = uvicorn.Server(config)\n",
    "    server.run()\n",
    "\n",
    "# Start Uvicorn server in a background thread\n",
    "thread = Thread(target=run_server, daemon=True)\n",
    "thread.start()\n"
   ]
  },
  {
   "cell_type": "code",
   "execution_count": null,
   "id": "7848c650-ceec-4553-98ef-f955088c4b70",
   "metadata": {},
   "outputs": [],
   "source": [
    "import requests\n",
    "\n",
    "response = requests.get(\"http://127.0.0.1:8004/get-conversation\")\n",
    "print(response.json())\n"
   ]
  },
  {
   "cell_type": "code",
   "execution_count": null,
   "id": "78237cb8-3d0b-4a5d-84f3-3cdf5f8da909",
   "metadata": {},
   "outputs": [],
   "source": [
    "from IPython.display import IFrame\n",
    "\n",
    "# Display the HTML file in an iframe\n",
    "IFrame(src=\"./04_t.html\", width=\"100%\", height=\"600\")\n"
   ]
  },
  {
   "cell_type": "code",
   "execution_count": null,
   "id": "7b15d9b3",
   "metadata": {},
   "outputs": [],
   "source": [
    "from IPython.display import IFrame\n",
    "\n",
    "# Display mindmap.html\n",
    "IFrame(src=\"./mindmap.html\", width=\"100%\", height=\"600\")\n"
   ]
  },
  {
   "cell_type": "code",
   "execution_count": 5,
   "id": "f72b0c7f-ac6d-4b1a-a058-d101b79eb3d6",
   "metadata": {},
   "outputs": [
    {
     "data": {
      "text/html": [
       "\n",
       "        <iframe\n",
       "            width=\"100%\"\n",
       "            height=\"600\"\n",
       "            src=\"./mindmap.test.html\"\n",
       "            frameborder=\"0\"\n",
       "            allowfullscreen\n",
       "            \n",
       "        ></iframe>\n",
       "        "
      ],
      "text/plain": [
       "<IPython.lib.display.IFrame at 0x7861ae1a95e0>"
      ]
     },
     "execution_count": 5,
     "metadata": {},
     "output_type": "execute_result"
    }
   ],
   "source": [
    "from IPython.display import IFrame\n",
    "\n",
    "# Display mindmap.html\n",
    "IFrame(src=\"./mindmap.test.html\", width=\"100%\", height=\"600\")"
   ]
  },
  {
   "cell_type": "code",
   "execution_count": null,
   "id": "e600d6f0",
   "metadata": {},
   "outputs": [],
   "source": []
  },
  {
   "cell_type": "code",
   "execution_count": null,
   "id": "a48b359f-53e2-4298-8858-6002d6e45d68",
   "metadata": {},
   "outputs": [],
   "source": []
  }
 ],
 "metadata": {
  "kernelspec": {
   "display_name": "Python 3 (ipykernel)",
   "language": "python",
   "name": "python3"
  },
  "language_info": {
   "codemirror_mode": {
    "name": "ipython",
    "version": 3
   },
   "file_extension": ".py",
   "mimetype": "text/x-python",
   "name": "python",
   "nbconvert_exporter": "python",
   "pygments_lexer": "ipython3",
   "version": "3.12.2"
  }
 },
 "nbformat": 4,
 "nbformat_minor": 5
}
