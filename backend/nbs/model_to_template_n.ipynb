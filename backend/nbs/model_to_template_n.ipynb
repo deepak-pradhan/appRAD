{
 "cells": [
  {
   "cell_type": "code",
   "execution_count": 1,
   "metadata": {},
   "outputs": [],
   "source": [
    "from sqlmodel import SQLModel, Field, Relationship\n",
    "from typing import List\n",
    "from datetime import datetime, timezone\n",
    "from beeprint import pp\n"
   ]
  },
  {
   "cell_type": "code",
   "execution_count": 2,
   "metadata": {},
   "outputs": [],
   "source": [
    "\n",
    "class Author(SQLModel, extend_existing=True):\n",
    "    id: int = Field(default=1, primary_key=True)\n",
    "    name: str = Field(index=True)\n",
    "    phone: str = Field(unique=True)\n",
    "    rating: int = Field(default=0)\n",
    "\n",
    "class Book(SQLModel, extend_existing=True):\n",
    "    id: int = Field(default=1, primary_key=True)\n",
    "    title: str = Field()\n",
    "    price: float\n",
    "    date_published: datetime\n",
    "    author_id: int = Field(foreign_key='Author.id')\n"
   ]
  },
  {
   "cell_type": "code",
   "execution_count": 3,
   "metadata": {},
   "outputs": [],
   "source": [
    "def get_model_structure(model_class: type[SQLModel]) -> dict:\n",
    "    \"\"\"Get the structure of a given SQLModel as a dictionary.\"\"\"\n",
    "    structure = {\n",
    "        \"fields\": {},\n",
    "        \"relationships\": {}\n",
    "    }\n",
    "\n",
    "    for field in model_class.__table__.columns:\n",
    "        pp(field)\n",
    "        # structure[\"fields\"][field.name] = {\"type\": field.type, \"default\": getattr(field, \"default\", None)}\n",
    "\n",
    "    print(structure)\n",
    "    return structure\n"
   ]
  },
  {
   "cell_type": "code",
   "execution_count": null,
   "metadata": {},
   "outputs": [],
   "source": []
  },
  {
   "cell_type": "code",
   "execution_count": 4,
   "metadata": {},
   "outputs": [],
   "source": [
    "def create_prompt(model_class: type[SQLModel], num_samples: int = 1 ) -> str:\n",
    "    \"\"\"Create a prompt for Llama 3.1 to generate synthetic data.\"\"\"\n",
    "    structure = get_model_structure(model_class)\n",
    "    fields = \", \".join(f\"{field} (e.g., '{structure['fields'][field]['default']}')\" for field in structure[\"fields\"])\n",
    "    return f\"Generate {num_samples} samples of the following data: {', '.join(structure['fields'].keys())}. It must contain all fields\"\n"
   ]
  },
  {
   "cell_type": "code",
   "execution_count": 5,
   "metadata": {},
   "outputs": [
    {
     "ename": "AttributeError",
     "evalue": "__table__",
     "output_type": "error",
     "traceback": [
      "\u001b[0;31m---------------------------------------------------------------------------\u001b[0m",
      "\u001b[0;31mAttributeError\u001b[0m                            Traceback (most recent call last)",
      "Cell \u001b[0;32mIn[5], line 1\u001b[0m\n\u001b[0;32m----> 1\u001b[0m prompt \u001b[38;5;241m=\u001b[39m \u001b[43mcreate_prompt\u001b[49m\u001b[43m(\u001b[49m\u001b[43mAuthor\u001b[49m\u001b[43m)\u001b[49m\n\u001b[1;32m      2\u001b[0m \u001b[38;5;28;01mfrom\u001b[39;00m \u001b[38;5;21;01mbeeprint\u001b[39;00m \u001b[38;5;28;01mimport\u001b[39;00m pp\n\u001b[1;32m      3\u001b[0m \u001b[38;5;28mprint\u001b[39m(prompt)\n",
      "Cell \u001b[0;32mIn[4], line 3\u001b[0m, in \u001b[0;36mcreate_prompt\u001b[0;34m(model_class, num_samples)\u001b[0m\n\u001b[1;32m      1\u001b[0m \u001b[38;5;28;01mdef\u001b[39;00m \u001b[38;5;21mcreate_prompt\u001b[39m(model_class: \u001b[38;5;28mtype\u001b[39m[SQLModel], num_samples: \u001b[38;5;28mint\u001b[39m \u001b[38;5;241m=\u001b[39m \u001b[38;5;241m1\u001b[39m ) \u001b[38;5;241m-\u001b[39m\u001b[38;5;241m>\u001b[39m \u001b[38;5;28mstr\u001b[39m:\n\u001b[1;32m      2\u001b[0m \u001b[38;5;250m    \u001b[39m\u001b[38;5;124;03m\"\"\"Create a prompt for Llama 3.1 to generate synthetic data.\"\"\"\u001b[39;00m\n\u001b[0;32m----> 3\u001b[0m     structure \u001b[38;5;241m=\u001b[39m \u001b[43mget_model_structure\u001b[49m\u001b[43m(\u001b[49m\u001b[43mmodel_class\u001b[49m\u001b[43m)\u001b[49m\n\u001b[1;32m      4\u001b[0m     fields \u001b[38;5;241m=\u001b[39m \u001b[38;5;124m\"\u001b[39m\u001b[38;5;124m, \u001b[39m\u001b[38;5;124m\"\u001b[39m\u001b[38;5;241m.\u001b[39mjoin(\u001b[38;5;124mf\u001b[39m\u001b[38;5;124m\"\u001b[39m\u001b[38;5;132;01m{\u001b[39;00mfield\u001b[38;5;132;01m}\u001b[39;00m\u001b[38;5;124m (e.g., \u001b[39m\u001b[38;5;124m'\u001b[39m\u001b[38;5;132;01m{\u001b[39;00mstructure[\u001b[38;5;124m'\u001b[39m\u001b[38;5;124mfields\u001b[39m\u001b[38;5;124m'\u001b[39m][field][\u001b[38;5;124m'\u001b[39m\u001b[38;5;124mdefault\u001b[39m\u001b[38;5;124m'\u001b[39m]\u001b[38;5;132;01m}\u001b[39;00m\u001b[38;5;124m'\u001b[39m\u001b[38;5;124m)\u001b[39m\u001b[38;5;124m\"\u001b[39m \u001b[38;5;28;01mfor\u001b[39;00m field \u001b[38;5;129;01min\u001b[39;00m structure[\u001b[38;5;124m\"\u001b[39m\u001b[38;5;124mfields\u001b[39m\u001b[38;5;124m\"\u001b[39m])\n\u001b[1;32m      5\u001b[0m     \u001b[38;5;28;01mreturn\u001b[39;00m \u001b[38;5;124mf\u001b[39m\u001b[38;5;124m\"\u001b[39m\u001b[38;5;124mGenerate \u001b[39m\u001b[38;5;132;01m{\u001b[39;00mnum_samples\u001b[38;5;132;01m}\u001b[39;00m\u001b[38;5;124m samples of the following data: \u001b[39m\u001b[38;5;132;01m{\u001b[39;00m\u001b[38;5;124m'\u001b[39m\u001b[38;5;124m, \u001b[39m\u001b[38;5;124m'\u001b[39m\u001b[38;5;241m.\u001b[39mjoin(structure[\u001b[38;5;124m'\u001b[39m\u001b[38;5;124mfields\u001b[39m\u001b[38;5;124m'\u001b[39m]\u001b[38;5;241m.\u001b[39mkeys())\u001b[38;5;132;01m}\u001b[39;00m\u001b[38;5;124m. It must contain all fields\u001b[39m\u001b[38;5;124m\"\u001b[39m\n",
      "Cell \u001b[0;32mIn[3], line 8\u001b[0m, in \u001b[0;36mget_model_structure\u001b[0;34m(model_class)\u001b[0m\n\u001b[1;32m      2\u001b[0m \u001b[38;5;250m\u001b[39m\u001b[38;5;124;03m\"\"\"Get the structure of a given SQLModel as a dictionary.\"\"\"\u001b[39;00m\n\u001b[1;32m      3\u001b[0m structure \u001b[38;5;241m=\u001b[39m {\n\u001b[1;32m      4\u001b[0m     \u001b[38;5;124m\"\u001b[39m\u001b[38;5;124mfields\u001b[39m\u001b[38;5;124m\"\u001b[39m: {},\n\u001b[1;32m      5\u001b[0m     \u001b[38;5;124m\"\u001b[39m\u001b[38;5;124mrelationships\u001b[39m\u001b[38;5;124m\"\u001b[39m: {}\n\u001b[1;32m      6\u001b[0m }\n\u001b[0;32m----> 8\u001b[0m \u001b[38;5;28;01mfor\u001b[39;00m field \u001b[38;5;129;01min\u001b[39;00m \u001b[43mmodel_class\u001b[49m\u001b[38;5;241;43m.\u001b[39;49m\u001b[43m__table__\u001b[49m\u001b[38;5;241m.\u001b[39mcolumns:\n\u001b[1;32m      9\u001b[0m     pp(field)\n\u001b[1;32m     10\u001b[0m     \u001b[38;5;66;03m# structure[\"fields\"][field.name] = {\"type\": field.type, \"default\": getattr(field, \"default\", None)}\u001b[39;00m\n",
      "File \u001b[0;32m~/Documents/appRAD/.sbox1/lib/python3.12/site-packages/pydantic/_internal/_model_construction.py:262\u001b[0m, in \u001b[0;36mModelMetaclass.__getattr__\u001b[0;34m(self, item)\u001b[0m\n\u001b[1;32m    260\u001b[0m \u001b[38;5;28;01mif\u001b[39;00m private_attributes \u001b[38;5;129;01mand\u001b[39;00m item \u001b[38;5;129;01min\u001b[39;00m private_attributes:\n\u001b[1;32m    261\u001b[0m     \u001b[38;5;28;01mreturn\u001b[39;00m private_attributes[item]\n\u001b[0;32m--> 262\u001b[0m \u001b[38;5;28;01mraise\u001b[39;00m \u001b[38;5;167;01mAttributeError\u001b[39;00m(item)\n",
      "\u001b[0;31mAttributeError\u001b[0m: __table__"
     ]
    }
   ],
   "source": [
    "prompt = create_prompt(Author)\n",
    "from beeprint import pp\n",
    "print(prompt)\n"
   ]
  },
  {
   "cell_type": "code",
   "execution_count": 6,
   "metadata": {},
   "outputs": [],
   "source": [
    "# Use Llama 3.1 to generate synthetic data based on the prompt and add it to your model using SQLModel's add() method\n",
    "import ollama\n"
   ]
  },
  {
   "cell_type": "code",
   "execution_count": 9,
   "metadata": {},
   "outputs": [
    {
     "name": "stdout",
     "output_type": "stream",
     "text": [
      "Raw AI response:\n",
      " {'model': 'llama3.1:8b', 'created_at': '2024-10-15T21:53:40.978871415Z', 'response': '{\\n  \"id\": \"Book1\",\\n  \"title\": \"Introduction to Computer Science\",\\n  \"author\": \"John Smith\"\\n}\\n\\n \\n \\n\\n \\n \\n\\n\\n \\n\\n\\n\\n \\n\\n \\n\\n\\n \\n \\n  \\n\\n \\n\\n\\n \\n\\n\\n\\n\\n\\n\\n\\n\\n \\n \\n\\n   \\n\\n\\n \\n\\n\\n\\n\\n \\n  \\n\\n\\n\\n \\n\\n\\n\\n  \\n\\n\\n\\n\\n\\n\\n \\n\\n  \\n\\n  \\n\\n\\n \\n\\n\\n\\n   \\n\\n\\n\\n\\n\\n \\n\\n  \\n\\n\\n', 'done': False}\n"
     ]
    }
   ],
   "source": [
    "import requests\n",
    "import json\n",
    "data = {\n",
    "            \"prompt\": prompt,\n",
    "            \"model\": 'llama3.1:8b',\n",
    "            \"format\": \"json\",\n",
    "            \"stream\": False,\n",
    "            \"options\": {\"temperature\": 100},\n",
    "        }\n",
    "\n",
    "response = requests.post(\"http://localhost:11434/api/generate\", json=data, stream=False)\n",
    "json_data = json.loads(response.text)\n",
    "print(f\"Raw AI response:\\n {json_data}\")   \n",
    "    "
   ]
  },
  {
   "cell_type": "code",
   "execution_count": null,
   "metadata": {},
   "outputs": [],
   "source": [
    "book_instance = Book(**json_data[0])  # Add the generated data to a new instance of the Book model\n"
   ]
  },
  {
   "cell_type": "code",
   "execution_count": null,
   "metadata": {},
   "outputs": [],
   "source": [
    "dict_items([('id', FieldInfo(annotation=int, required=False, default=1))\n",
    "            , ('title', FieldInfo(annotation=str, required=True))\n",
    "            , ('price', FieldInfo(annotation=Union[float, NoneType], required=False, default=None))\n",
    "            , ('author_id', FieldInfo(annotation=int, required=True))])\n",
    "\n",
    "FieldInfo(annotation=int, required=False, default=1)\n",
    "\n",
    "'id'\n",
    "class(int):\n",
    "  as_integer_ratio: <method 'as_integer_ratio' of 'int' objects>,\n",
    "  bit_count: <method 'bit_count' of 'int' objects>,\n",
    "  bit_length: <method 'bit_length' of 'int' objects>,\n",
    "  conjugate: <method 'conjugate' of 'int' objects>,\n",
    "  denominator: <attribute 'denominator' of 'int' objects>,\n",
    "  imag: <attribute 'imag' of 'int' objects>,\n",
    "  is_integer: <method 'is_integer' of 'int' objects>,\n",
    "  numerator: <attribute 'numerator' of 'int' objects>,\n",
    "  real: <attribute 'real' of 'int' objects>,\n",
    "  to_bytes: <method 'to_bytes' of 'int' objects>\n",
    "FieldInfo(annotation=str, required=True)\n",
    "\n",
    "'title'\n",
    "class(str):\n",
    "  capitalize: <method 'capitalize' of 'str' objects>,\n",
    "  casefold: <method 'casefold' of 'str' objects>,\n",
    "  center: <method 'center' of 'str' objects>,\n",
    "  count: <method 'count' of 'str' objects>,\n",
    "  encode: <method 'encode' of 'str' objects>,\n",
    "  endswith: <method 'endswith' of 'str' objects>,\n",
    "  expandtabs: <method 'expandtabs' of 'str' objects>,\n",
    "  find: <method 'find' of 'str' objects>,\n",
    "  format: <method 'format' of 'str' objects>,\n",
    "  format_map: <method 'format_map' of 'str' objects>,\n",
    "  index: <method 'index' of 'str' objects>,\n",
    "  isalnum: <method 'isalnum' of 'str' objects>,\n",
    "  isalpha: <method 'isalpha' of 'str' objects>,\n",
    "  isascii: <method 'isascii' of 'str' objects>,\n",
    "  isdecimal: <method 'isdecimal' of 'str' objects>,\n",
    "  isdigit: <method 'isdigit' of 'str' objects>,\n",
    "  isidentifier: <method 'isidentifier' of 'str' objects>,\n",
    "  islower: <method 'islower' of 'str' objects>,\n",
    "  isnumeric: <method 'isnumeric' of 'str' objects>,\n",
    "  isprintable: <method 'isprintable' of 'str' objects>,\n",
    "  isspace: <method 'isspace' of 'str' objects>,\n",
    "  istitle: <method 'istitle' of 'str' objects>,\n",
    "  isupper: <method 'isupper' of 'str' objects>,\n",
    "  join: <method 'join' of 'str' objects>,\n",
    "  ljust: <method 'ljust' of 'str' objects>,\n",
    "  lower: <method 'lower' of 'str' objects>,\n",
    "  lstrip: <method 'lstrip' of 'str' objects>,\n",
    "  partition: <method 'partition' of 'str' objects>,\n",
    "  removeprefix: <method 'removeprefix' of 'str' objects>,\n",
    "  removesuffix: <method 'removesuffix' of 'str' objects>,\n",
    "  replace: <method 'replace' of 'str' objects>,\n",
    "  rfind: <method 'rfind' of 'str' objects>,\n",
    "  rindex: <method 'rindex' of 'str' objects>,\n",
    "  rjust: <method 'rjust' of 'str' objects>,\n",
    "  rpartition: <method 'rpartition' of 'str' objects>,\n",
    "  rsplit: <method 'rsplit' of 'str' objects>,\n",
    "  rstrip: <method 'rstrip' of 'str' objects>,\n",
    "  split: <method 'split' of 'str' objects>,\n",
    "  splitlines: <method 'splitlines' of 'str' objects>,\n",
    "  startswith: <method 'startswith' of 'str' objects>,\n",
    "  strip: <method 'strip' of 'str' objects>,\n",
    "  swapcase: <method 'swapcase' of 'str' objects>,\n",
    "  title: <method 'title' of 'str' objects>,\n",
    "  translate: <method 'translate' of 'str' objects>,\n",
    "  upper: <method 'upper' of 'str' objects>,\n",
    "  zfill: <method 'zfill' of 'str' objects>\n",
    "\n",
    "FieldInfo(annotation=Union[float, NoneType], required=False, default=None)\n",
    "'price'\n",
    "float | None\n",
    "\n",
    "FieldInfo(annotation=int, required=True)\n",
    "'author_id'\n",
    "class(int):\n",
    "  as_integer_ratio: <method 'as_integer_ratio' of 'int' objects>,\n",
    "  bit_count: <method 'bit_count' of 'int' objects>,\n",
    "  bit_length: <method 'bit_length' of 'int' objects>,\n",
    "  conjugate: <method 'conjugate' of 'int' objects>,\n",
    "  denominator: <attribute 'denominator' of 'int' objects>,\n",
    "  imag: <attribute 'imag' of 'int' objects>,\n",
    "  is_integer: <method 'is_integer' of 'int' objects>,\n",
    "  numerator: <attribute 'numerator' of 'int' objects>,\n",
    "  real: <attribute 'real' of 'int' objects>,\n",
    "  to_bytes: <method 'to_bytes' of 'int' objects>\n",
    "\n",
    "{\n",
    "  'fields': {\n",
    "    'author_id': {\n",
    "      'constraints': {\n",
    "      },\n",
    "      'default': PydanticUndefined\n",
    "      'description': None,\n",
    "      'required': method(is_required),\n",
    "      'type': '<class 'int'>',\n",
    "      'validators': [],\n",
    "    },\n",
    "    'id': {\n",
    "      'constraints': {\n",
    "      },\n",
    "      'default': 1,\n",
    "      'description': None,\n",
    "      'required': method(is_required),\n",
    "      'type': '<class 'int'>',\n",
    "      'validators': [],\n",
    "    },\n",
    "    'price': {\n",
    "      'constraints': {\n",
    "      },\n",
    "      'default': None,\n",
    "      'description': None,\n",
    "      'required': method(is_required),\n",
    "      'type': 'float | None',\n",
    "      'validators': [],\n",
    "    },\n",
    "    'title': {\n",
    "      'constraints': {\n",
    "      },\n",
    "      'default': PydanticUndefined\n",
    "      'description': None,\n",
    "      'required': method(is_required),\n",
    "      'type': '<class 'str'>',\n",
    "      'validators': [],\n",
    "    },\n",
    "  },\n",
    "  'relationships': {\n",
    "  },\n",
    "}\n",
    "(.sbox1) (base) dp@P920:~/Documents/appRAD$ "
   ]
  }
 ],
 "metadata": {
  "kernelspec": {
   "display_name": "Python 3 (ipykernel)",
   "language": "python",
   "name": "python3"
  },
  "language_info": {
   "codemirror_mode": {
    "name": "ipython",
    "version": 3
   },
   "file_extension": ".py",
   "mimetype": "text/x-python",
   "name": "python",
   "nbconvert_exporter": "python",
   "pygments_lexer": "ipython3",
   "version": "3.12.2"
  }
 },
 "nbformat": 4,
 "nbformat_minor": 4
}
